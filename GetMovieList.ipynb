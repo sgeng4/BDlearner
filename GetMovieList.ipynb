{
 "cells": [
  {
   "cell_type": "code",
   "execution_count": 1,
   "id": "e8f41392",
   "metadata": {},
   "outputs": [],
   "source": [
    "import time\n",
    "import pandas as pd\n",
    "from bs4 import BeautifulSoup\n",
    "import requests\n",
    "import re\n",
    "\n",
    "from selenium import webdriver\n",
    "from selenium.common.exceptions import NoSuchElementException\n",
    "from selenium.webdriver.common.keys import Keys"
   ]
  },
  {
   "cell_type": "code",
   "execution_count": 4,
   "id": "a0ff69ec",
   "metadata": {},
   "outputs": [],
   "source": [
    "# to the mivielist page\n",
    "pageLink = 'https://www.rottentomatoes.com/browse/dvd-streaming-all/'\n",
    "path    = \"/Users/sai/files/chromedriver\"\n",
    "browser = webdriver.Chrome(path)\n",
    "browser.get(pageLink)"
   ]
  },
  {
   "cell_type": "code",
   "execution_count": 5,
   "id": "c1abf407",
   "metadata": {},
   "outputs": [],
   "source": [
    "#find element of see more\n",
    "element_seemore = '//button[@class=\"btn btn-secondary-rt mb-load-btn\"]'\n",
    "\n",
    "#click on element\n",
    "browser.find_element_by_xpath(element_seemore).click()\n",
    "time.sleep(3)\n",
    "browser.find_element_by_xpath(element_seemore).click()\n",
    "time.sleep(3)\n",
    "browser.find_element_by_xpath(element_seemore).click()"
   ]
  },
  {
   "cell_type": "code",
   "execution_count": 6,
   "id": "67749183",
   "metadata": {},
   "outputs": [],
   "source": [
    "#find the content contains movies\n",
    "page_source = browser.page_source\n",
    "soup = BeautifulSoup(page_source, 'lxml')\n",
    "content=soup.findAll('div', {'class':re.compile('movie_info')})"
   ]
  },
  {
   "cell_type": "code",
   "execution_count": 20,
   "id": "4d2ce5bb",
   "metadata": {},
   "outputs": [],
   "source": [
    "names = []\n",
    "links = []\n",
    "rates = []\n",
    "\n",
    "for i in content:\n",
    "    name = i.find('h3',class_ = \"movieTitle\").text\n",
    "    rate = i.find('span',class_ = \"tMeterScore\").text\n",
    "    link = 'https://www.rottentomatoes.com' + i.find('a')['href']\n",
    "    \n",
    "    names.append(name)\n",
    "    links.append(link)\n",
    "    rates.append(rate)"
   ]
  },
  {
   "cell_type": "code",
   "execution_count": 24,
   "id": "4034fece",
   "metadata": {},
   "outputs": [
    {
     "name": "stdout",
     "output_type": "stream",
     "text": [
      "(190, 3)\n"
     ]
    },
    {
     "data": {
      "text/html": [
       "<div>\n",
       "<style scoped>\n",
       "    .dataframe tbody tr th:only-of-type {\n",
       "        vertical-align: middle;\n",
       "    }\n",
       "\n",
       "    .dataframe tbody tr th {\n",
       "        vertical-align: top;\n",
       "    }\n",
       "\n",
       "    .dataframe thead th {\n",
       "        text-align: right;\n",
       "    }\n",
       "</style>\n",
       "<table border=\"1\" class=\"dataframe\">\n",
       "  <thead>\n",
       "    <tr style=\"text-align: right;\">\n",
       "      <th></th>\n",
       "      <th>names</th>\n",
       "      <th>rates</th>\n",
       "      <th>links</th>\n",
       "    </tr>\n",
       "  </thead>\n",
       "  <tbody>\n",
       "    <tr>\n",
       "      <th>0</th>\n",
       "      <td>Clifford the Big Red Dog</td>\n",
       "      <td>49%</td>\n",
       "      <td>https://www.rottentomatoes.com/m/clifford_the_...</td>\n",
       "    </tr>\n",
       "    <tr>\n",
       "      <th>1</th>\n",
       "      <td>Bugs</td>\n",
       "      <td>88%</td>\n",
       "      <td>https://www.rottentomatoes.com/m/bugs_2016</td>\n",
       "    </tr>\n",
       "    <tr>\n",
       "      <th>2</th>\n",
       "      <td>Red Notice</td>\n",
       "      <td>35%</td>\n",
       "      <td>https://www.rottentomatoes.com/m/red_notice</td>\n",
       "    </tr>\n",
       "    <tr>\n",
       "      <th>3</th>\n",
       "      <td>Finch</td>\n",
       "      <td>73%</td>\n",
       "      <td>https://www.rottentomatoes.com/m/finch</td>\n",
       "    </tr>\n",
       "    <tr>\n",
       "      <th>4</th>\n",
       "      <td>They Say Nothing Stays the Same (Aru sendo no ...</td>\n",
       "      <td>100%</td>\n",
       "      <td>https://www.rottentomatoes.com/m/they_say_noth...</td>\n",
       "    </tr>\n",
       "  </tbody>\n",
       "</table>\n",
       "</div>"
      ],
      "text/plain": [
       "                                               names rates  \\\n",
       "0                           Clifford the Big Red Dog   49%   \n",
       "1                                               Bugs   88%   \n",
       "2                                         Red Notice   35%   \n",
       "3                                              Finch   73%   \n",
       "4  They Say Nothing Stays the Same (Aru sendo no ...  100%   \n",
       "\n",
       "                                               links  \n",
       "0  https://www.rottentomatoes.com/m/clifford_the_...  \n",
       "1         https://www.rottentomatoes.com/m/bugs_2016  \n",
       "2        https://www.rottentomatoes.com/m/red_notice  \n",
       "3             https://www.rottentomatoes.com/m/finch  \n",
       "4  https://www.rottentomatoes.com/m/they_say_noth...  "
      ]
     },
     "execution_count": 24,
     "metadata": {},
     "output_type": "execute_result"
    }
   ],
   "source": [
    "filmframe = pd.DataFrame({'names':names,'rates':rates,'links':links})\n",
    "print(filmframe.shape)\n",
    "filmframe.head()"
   ]
  },
  {
   "cell_type": "code",
   "execution_count": 26,
   "id": "7bbf0fa3",
   "metadata": {},
   "outputs": [],
   "source": [
    "filmframe.to_csv(\"film_list.csv\", encoding='utf-8')"
   ]
  },
  {
   "cell_type": "code",
   "execution_count": null,
   "id": "a33bf64f",
   "metadata": {},
   "outputs": [],
   "source": []
  },
  {
   "cell_type": "code",
   "execution_count": null,
   "id": "1b0c771b",
   "metadata": {},
   "outputs": [],
   "source": []
  }
 ],
 "metadata": {
  "kernelspec": {
   "display_name": "Python 3",
   "language": "python",
   "name": "python3"
  },
  "language_info": {
   "codemirror_mode": {
    "name": "ipython",
    "version": 3
   },
   "file_extension": ".py",
   "mimetype": "text/x-python",
   "name": "python",
   "nbconvert_exporter": "python",
   "pygments_lexer": "ipython3",
   "version": "3.8.8"
  }
 },
 "nbformat": 4,
 "nbformat_minor": 5
}
